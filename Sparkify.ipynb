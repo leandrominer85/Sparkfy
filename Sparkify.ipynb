{
 "cells": [
  {
   "cell_type": "markdown",
   "metadata": {},
   "source": [
    "# Sparkify Project Workspace\n",
    "This workspace contains a tiny subset (128MB) of the full dataset available (12GB). Feel free to use this workspace to build your project, or to explore a smaller subset with Spark before deploying your cluster on the cloud. Instructions for setting up your Spark cluster is included in the last lesson of the Extracurricular Spark Course content.\n",
    "\n",
    "You can follow the steps below to guide your data analysis and model building portion of this project."
   ]
  },
  {
   "cell_type": "code",
   "execution_count": 1,
   "metadata": {},
   "outputs": [],
   "source": [
    "# import libraries\n",
    "from pyspark.sql import SparkSession\n",
    "from pyspark.sql.functions import avg, col, concat, desc, lit, min, max, split, udf, countDistinct, sum, count, isnan, when, count, col, size\n",
    "import pyspark.sql.functions as F\n",
    "from pyspark.sql.types import *\n",
    "from pyspark.sql.functions import array, lit\n",
    "import numpy as np\n",
    "import pandas as pd\n",
    "import seaborn as sns\n",
    "import matplotlib.pyplot as plt\n",
    "import matplotlib.dates as mdates\n",
    "from pyspark.ml.feature import VectorAssembler, StandardScaler, OneHotEncoderEstimator\n",
    "from pyspark.ml.classification import LogisticRegression, DecisionTreeClassifier,RandomForestClassifier, LinearSVC\n",
    "from pyspark.ml.evaluation import MulticlassClassificationEvaluator\n",
    "from pyspark.ml.tuning import CrossValidator, ParamGridBuilder\n",
    "from pyspark.ml.pipeline import PipelineModel\n",
    "from pyspark.ml import Pipeline"
   ]
  },
  {
   "cell_type": "code",
   "execution_count": 2,
   "metadata": {},
   "outputs": [],
   "source": [
    "# Create spark session\n",
    "spark = SparkSession \\\n",
    "    .builder \\\n",
    "    .appName(\"Sparkify\") \\\n",
    "    .getOrCreate()\n"
   ]
  },
  {
   "cell_type": "markdown",
   "metadata": {},
   "source": [
    "# Load Dataset"
   ]
  },
  {
   "cell_type": "code",
   "execution_count": 3,
   "metadata": {},
   "outputs": [
    {
     "data": {
      "text/plain": [
       "Row(artist='Martha Tilston', auth='Logged In', firstName='Colin', gender='M', itemInSession=50, lastName='Freeman', length=277.89016, level='paid', location='Bakersfield, CA', method='PUT', page='NextSong', registration=1538173362000, sessionId=29, song='Rockpools', status=200, ts=1538352117000, userAgent='Mozilla/5.0 (Windows NT 6.1; WOW64; rv:31.0) Gecko/20100101 Firefox/31.0', userId='30')"
      ]
     },
     "execution_count": 3,
     "metadata": {},
     "output_type": "execute_result"
    }
   ],
   "source": [
    "# Read in full sparkify dataset\n",
    "event_data = 'mini_sparkify_event_data.json'\n",
    "df = spark.read.json(event_data)\n",
    "df.head()"
   ]
  },
  {
   "cell_type": "markdown",
   "metadata": {},
   "source": [
    "# Exploratory Data Analysis"
   ]
  },
  {
   "cell_type": "code",
   "execution_count": 4,
   "metadata": {},
   "outputs": [
    {
     "name": "stdout",
     "output_type": "stream",
     "text": [
      "root\n",
      " |-- artist: string (nullable = true)\n",
      " |-- auth: string (nullable = true)\n",
      " |-- firstName: string (nullable = true)\n",
      " |-- gender: string (nullable = true)\n",
      " |-- itemInSession: long (nullable = true)\n",
      " |-- lastName: string (nullable = true)\n",
      " |-- length: double (nullable = true)\n",
      " |-- level: string (nullable = true)\n",
      " |-- location: string (nullable = true)\n",
      " |-- method: string (nullable = true)\n",
      " |-- page: string (nullable = true)\n",
      " |-- registration: long (nullable = true)\n",
      " |-- sessionId: long (nullable = true)\n",
      " |-- song: string (nullable = true)\n",
      " |-- status: long (nullable = true)\n",
      " |-- ts: long (nullable = true)\n",
      " |-- userAgent: string (nullable = true)\n",
      " |-- userId: string (nullable = true)\n",
      "\n"
     ]
    }
   ],
   "source": [
    "df.printSchema()"
   ]
  },
  {
   "cell_type": "code",
   "execution_count": 5,
   "metadata": {},
   "outputs": [
    {
     "name": "stdout",
     "output_type": "stream",
     "text": [
      "+------+----+---------+------+-------------+--------+------+-----+--------+------+----+------------+---------+----+------+---+---------+------+\n",
      "|artist|auth|firstName|gender|itemInSession|lastName|length|level|location|method|page|registration|sessionId|song|status| ts|userAgent|userId|\n",
      "+------+----+---------+------+-------------+--------+------+-----+--------+------+----+------------+---------+----+------+---+---------+------+\n",
      "|     0|   0|        0|     0|            0|       0|     0|    0|       0|     0|   0|           0|        0|   0|     0|  0|        0|     0|\n",
      "+------+----+---------+------+-------------+--------+------+-----+--------+------+----+------------+---------+----+------+---+---------+------+\n",
      "\n"
     ]
    }
   ],
   "source": [
    "#cheking for NANs\n",
    "df.select([count(when(isnan(c), c)).alias(c) for c in df.columns]).show()"
   ]
  },
  {
   "cell_type": "code",
   "execution_count": 6,
   "metadata": {},
   "outputs": [
    {
     "name": "stdout",
     "output_type": "stream",
     "text": [
      "+----------+----------------------+\n",
      "|      auth|count(DISTINCT userId)|\n",
      "+----------+----------------------+\n",
      "|Logged Out|                     1|\n",
      "| Cancelled|                    52|\n",
      "|     Guest|                     1|\n",
      "| Logged In|                   225|\n",
      "+----------+----------------------+\n",
      "\n"
     ]
    }
   ],
   "source": [
    "# As there is no NaNs let's check the distribution of the authentication column \n",
    "df.groupBy('auth').agg(countDistinct('userId')).show()"
   ]
  },
  {
   "cell_type": "code",
   "execution_count": 7,
   "metadata": {},
   "outputs": [],
   "source": [
    "#removing the guest and logged Out as they are not active users\n",
    "df_filtered = df.filter((df.auth != 'Guest') & (df.auth != 'Logged Out'))"
   ]
  },
  {
   "cell_type": "code",
   "execution_count": 8,
   "metadata": {},
   "outputs": [
    {
     "name": "stdout",
     "output_type": "stream",
     "text": [
      "+---------+----------------------+\n",
      "|     auth|count(DISTINCT userId)|\n",
      "+---------+----------------------+\n",
      "|Cancelled|                    52|\n",
      "|Logged In|                   225|\n",
      "+---------+----------------------+\n",
      "\n"
     ]
    }
   ],
   "source": [
    "# Checking\n",
    "df_filtered.groupBy('auth').agg(countDistinct('userId')).show()"
   ]
  },
  {
   "cell_type": "markdown",
   "metadata": {},
   "source": [
    "### I will create the churn collum with the cancelled value in the auth column."
   ]
  },
  {
   "cell_type": "code",
   "execution_count": 9,
   "metadata": {},
   "outputs": [],
   "source": [
    "#Creating the churn column as a dummy\n",
    "cancelled = udf(lambda x : 0 if  x == 'Logged In' else 1, IntegerType())"
   ]
  },
  {
   "cell_type": "code",
   "execution_count": 10,
   "metadata": {},
   "outputs": [],
   "source": [
    "df_clean = df_filtered.withColumn('churn',cancelled('auth'))"
   ]
  },
  {
   "cell_type": "code",
   "execution_count": 11,
   "metadata": {},
   "outputs": [
    {
     "name": "stdout",
     "output_type": "stream",
     "text": [
      "+-----+----------------------+\n",
      "|churn|count(DISTINCT userId)|\n",
      "+-----+----------------------+\n",
      "|    1|                    52|\n",
      "|    0|                   225|\n",
      "+-----+----------------------+\n",
      "\n"
     ]
    }
   ],
   "source": [
    "df_clean.groupBy('churn').agg(countDistinct('userId')).show()"
   ]
  },
  {
   "cell_type": "markdown",
   "metadata": {},
   "source": [
    "### The user can access the submit downgrade page before cancelling the paid account."
   ]
  },
  {
   "cell_type": "code",
   "execution_count": 12,
   "metadata": {
    "scrolled": true
   },
   "outputs": [
    {
     "name": "stdout",
     "output_type": "stream",
     "text": [
      "+--------------------+------+\n",
      "|                page| count|\n",
      "+--------------------+------+\n",
      "|              Cancel|    52|\n",
      "|    Submit Downgrade|    63|\n",
      "|         Thumbs Down|  2546|\n",
      "|                Home| 10082|\n",
      "|           Downgrade|  2055|\n",
      "|         Roll Advert|  3933|\n",
      "|              Logout|  3226|\n",
      "|       Save Settings|   310|\n",
      "|Cancellation Conf...|    52|\n",
      "|               About|   495|\n",
      "|            Settings|  1514|\n",
      "|     Add to Playlist|  6526|\n",
      "|          Add Friend|  4277|\n",
      "|            NextSong|228108|\n",
      "|           Thumbs Up| 12551|\n",
      "|                Help|  1454|\n",
      "|             Upgrade|   499|\n",
      "|               Error|   252|\n",
      "|      Submit Upgrade|   159|\n",
      "+--------------------+------+\n",
      "\n"
     ]
    }
   ],
   "source": [
    "#see user activity\n",
    "df_clean.groupBy('page').count().show()"
   ]
  },
  {
   "cell_type": "code",
   "execution_count": 13,
   "metadata": {},
   "outputs": [],
   "source": [
    "# Creating a new column with the page column as 1 if the user is downgraded\n",
    "downgrade = udf(lambda x : 1 if  x == 'Submit Downgrade' else 0, IntegerType())\n",
    "df_clean = df_clean.withColumn('Downgrade',downgrade('page'))"
   ]
  },
  {
   "cell_type": "code",
   "execution_count": 14,
   "metadata": {},
   "outputs": [
    {
     "name": "stdout",
     "output_type": "stream",
     "text": [
      "+---------+------+\n",
      "|Downgrade| count|\n",
      "+---------+------+\n",
      "|        1|    63|\n",
      "|        0|278091|\n",
      "+---------+------+\n",
      "\n"
     ]
    }
   ],
   "source": [
    "df_clean.groupBy('Downgrade').count().show()"
   ]
  },
  {
   "cell_type": "markdown",
   "metadata": {},
   "source": [
    "### As we can see there is more users that submited a downgrade than the ones that cancelled the account."
   ]
  },
  {
   "cell_type": "code",
   "execution_count": 15,
   "metadata": {
    "scrolled": true
   },
   "outputs": [
    {
     "name": "stdout",
     "output_type": "stream",
     "text": [
      "+------+----------------------+\n",
      "|gender|count(DISTINCT userId)|\n",
      "+------+----------------------+\n",
      "|     F|                   104|\n",
      "|     M|                   121|\n",
      "+------+----------------------+\n",
      "\n"
     ]
    }
   ],
   "source": [
    "#Check if there is a gender bias\n",
    "df_clean.groupBy('gender').agg(countDistinct('userId')).show()"
   ]
  },
  {
   "cell_type": "markdown",
   "metadata": {},
   "source": [
    "### There are more male users, but the difference is less than 5%. So no problem here."
   ]
  },
  {
   "cell_type": "markdown",
   "metadata": {},
   "source": [
    "### In the next cells i will analyse the downgraded users versus the non-downgraded and the general users considering their activity in the page column"
   ]
  },
  {
   "cell_type": "code",
   "execution_count": 16,
   "metadata": {},
   "outputs": [],
   "source": [
    "# get only the downgraded users\n",
    "df_cancelled = df_clean.filter(df_clean.Downgrade == 1)"
   ]
  },
  {
   "cell_type": "code",
   "execution_count": 17,
   "metadata": {},
   "outputs": [
    {
     "name": "stdout",
     "output_type": "stream",
     "text": [
      "+---------+-----+\n",
      "|Downgrade|count|\n",
      "+---------+-----+\n",
      "|        1|   63|\n",
      "+---------+-----+\n",
      "\n"
     ]
    }
   ],
   "source": [
    "#double check\n",
    "df_cancelled.groupBy('Downgrade').count().show()"
   ]
  },
  {
   "cell_type": "code",
   "execution_count": 18,
   "metadata": {},
   "outputs": [
    {
     "name": "stdout",
     "output_type": "stream",
     "text": [
      "+-----------+\n",
      "|count(page)|\n",
      "+-----------+\n",
      "|         63|\n",
      "+-----------+\n",
      "\n"
     ]
    }
   ],
   "source": [
    "# As we can see there is only one page entry in this dataframe\n",
    "df_cancelled.select(count(\"page\")).show()"
   ]
  },
  {
   "cell_type": "code",
   "execution_count": 19,
   "metadata": {},
   "outputs": [],
   "source": [
    "# Retrieve the unique ids\n",
    "ids = df_cancelled.select(\"userId\").distinct()"
   ]
  },
  {
   "cell_type": "code",
   "execution_count": 20,
   "metadata": {},
   "outputs": [
    {
     "data": {
      "text/plain": [
       "49"
      ]
     },
     "execution_count": 20,
     "metadata": {},
     "output_type": "execute_result"
    }
   ],
   "source": [
    "ids.count()"
   ]
  },
  {
   "cell_type": "code",
   "execution_count": 21,
   "metadata": {},
   "outputs": [],
   "source": [
    "#Getting only the data where the user has subimmited a downgrade\n",
    "down = df_clean.join(ids, ['userId'], 'leftsemi')"
   ]
  },
  {
   "cell_type": "code",
   "execution_count": 22,
   "metadata": {
    "scrolled": true
   },
   "outputs": [
    {
     "name": "stdout",
     "output_type": "stream",
     "text": [
      "+--------------------+-----+\n",
      "|                page|count|\n",
      "+--------------------+-----+\n",
      "|              Cancel|    9|\n",
      "|    Submit Downgrade|   63|\n",
      "|         Thumbs Down| 1044|\n",
      "|                Home| 3898|\n",
      "|           Downgrade|  820|\n",
      "|         Roll Advert| 1746|\n",
      "|              Logout| 1253|\n",
      "|       Save Settings|  101|\n",
      "|Cancellation Conf...|    9|\n",
      "|               About|  210|\n",
      "|            Settings|  542|\n",
      "|     Add to Playlist| 2496|\n",
      "|          Add Friend| 1599|\n",
      "|            NextSong|87035|\n",
      "|           Thumbs Up| 4881|\n",
      "|                Help|  561|\n",
      "|             Upgrade|  226|\n",
      "|               Error|   86|\n",
      "|      Submit Upgrade|   73|\n",
      "+--------------------+-----+\n",
      "\n"
     ]
    }
   ],
   "source": [
    "# Check the page interations\n",
    "down.groupBy('page').count().show()"
   ]
  },
  {
   "cell_type": "code",
   "execution_count": 23,
   "metadata": {
    "scrolled": true
   },
   "outputs": [
    {
     "name": "stdout",
     "output_type": "stream",
     "text": [
      "+----------------------+\n",
      "|count(DISTINCT userId)|\n",
      "+----------------------+\n",
      "|                   225|\n",
      "+----------------------+\n",
      "\n"
     ]
    }
   ],
   "source": [
    "#Comparing the uniques Users in both dataframes:\n",
    "df_clean.select(countDistinct(\"userId\")).show()"
   ]
  },
  {
   "cell_type": "code",
   "execution_count": 24,
   "metadata": {
    "scrolled": true
   },
   "outputs": [
    {
     "name": "stdout",
     "output_type": "stream",
     "text": [
      "+----------------------+\n",
      "|count(DISTINCT userId)|\n",
      "+----------------------+\n",
      "|                    49|\n",
      "+----------------------+\n",
      "\n"
     ]
    }
   ],
   "source": [
    "down.select(countDistinct(\"userId\")).show()"
   ]
  },
  {
   "cell_type": "code",
   "execution_count": 25,
   "metadata": {
    "scrolled": false
   },
   "outputs": [
    {
     "name": "stdout",
     "output_type": "stream",
     "text": [
      "+-----------+\n",
      "|count(page)|\n",
      "+-----------+\n",
      "|     278154|\n",
      "+-----------+\n",
      "\n"
     ]
    }
   ],
   "source": [
    "# Comparing the total pages in each dataframe\n",
    "df_clean.select(count(\"page\")).show()"
   ]
  },
  {
   "cell_type": "code",
   "execution_count": 26,
   "metadata": {
    "scrolled": true
   },
   "outputs": [
    {
     "name": "stdout",
     "output_type": "stream",
     "text": [
      "+-----------+\n",
      "|count(page)|\n",
      "+-----------+\n",
      "|     106652|\n",
      "+-----------+\n",
      "\n"
     ]
    }
   ],
   "source": [
    "down.select(count(\"page\")).show()"
   ]
  },
  {
   "cell_type": "code",
   "execution_count": 27,
   "metadata": {
    "scrolled": true
   },
   "outputs": [
    {
     "name": "stdout",
     "output_type": "stream",
     "text": [
      "+-----+---------+----------------+---------+-------------+\n",
      "|level|sessionId|            page|Downgrade|           ts|\n",
      "+-----+---------+----------------+---------+-------------+\n",
      "| free|      249|        NextSong|        0|1538384355000|\n",
      "| free|      249| Add to Playlist|        0|1538388861000|\n",
      "| free|      249|            Help|        0|1538389366000|\n",
      "| free|      249|            Home|        0|1538389667000|\n",
      "| free|      249|         Upgrade|        0|1538389930000|\n",
      "| free|      249|  Submit Upgrade|        0|1538389931000|\n",
      "| paid|      249|            Home|        0|1538389931000|\n",
      "| paid|      249|        NextSong|        0|1538389997000|\n",
      "| paid|      249|       Thumbs Up|        0|1538390256000|\n",
      "| paid|      249| Add to Playlist|        0|1538393102000|\n",
      "| paid|      249|       Downgrade|        0|1538393618000|\n",
      "| paid|      249|Submit Downgrade|        1|1538393619000|\n",
      "| paid|      249|           Error|        0|1538393848000|\n",
      "| paid|      249|            Help|        0|1538397340000|\n",
      "| paid|      249|      Add Friend|        0|1538397341000|\n",
      "| paid|      249|           About|        0|1538397727000|\n",
      "| paid|      249|          Logout|        0|1538406105000|\n",
      "| paid|      249|        Settings|        0|1538431495000|\n",
      "| paid|      320|        NextSong|        0|1538643556000|\n",
      "| paid|      320| Add to Playlist|        0|1538644309000|\n",
      "| paid|      320|     Thumbs Down|        0|1538645171000|\n",
      "| paid|      320|            Home|        0|1538647953000|\n",
      "| paid|      320|       Thumbs Up|        0|1538649177000|\n",
      "| paid|      440|        NextSong|        0|1539141609000|\n",
      "| paid|      440| Add to Playlist|        0|1539145632000|\n",
      "| paid|      440|       Thumbs Up|        0|1539146695000|\n",
      "| paid|      676|        NextSong|        0|1539167345000|\n",
      "| paid|      676|            Home|        0|1539167794000|\n",
      "| paid|      676|       Thumbs Up|        0|1539168247000|\n",
      "| paid|      676|            Help|        0|1539169959000|\n",
      "| paid|      676|      Add Friend|        0|1539173521000|\n",
      "| paid|      676|       Downgrade|        0|1539174018000|\n",
      "| paid|      690|            Home|        0|1539592593000|\n",
      "| paid|      690|        NextSong|        0|1539592816000|\n",
      "| paid|      690|       Thumbs Up|        0|1539594238000|\n",
      "| paid|      690|           Error|        0|1539598083000|\n",
      "| paid|      690|        Settings|        0|1539602075000|\n",
      "| paid|      690|      Add Friend|        0|1539602348000|\n",
      "| paid|      690| Add to Playlist|        0|1539602755000|\n",
      "| paid|      690|     Thumbs Down|        0|1539613862000|\n",
      "| paid|      885|            Home|        0|1539670960000|\n",
      "| paid|      885|        NextSong|        0|1539671124000|\n",
      "| paid|      885|     Thumbs Down|        0|1539671796000|\n",
      "| paid|      885|           About|        0|1539678690000|\n",
      "| paid|      885|     Roll Advert|        0|1539680150000|\n",
      "| paid|      885|       Thumbs Up|        0|1539680684000|\n",
      "| paid|      885|          Logout|        0|1539685267000|\n",
      "| paid|      885|       Downgrade|        0|1539698161000|\n",
      "| paid|      885| Add to Playlist|        0|1539702549000|\n",
      "| paid|      929|        NextSong|        0|1539777205000|\n",
      "| paid|      929| Add to Playlist|        0|1539779616000|\n",
      "| paid|      929|       Thumbs Up|        0|1539784218000|\n",
      "| paid|      929|     Thumbs Down|        0|1539784810000|\n",
      "| paid|      929|            Help|        0|1539785489000|\n",
      "| paid|      929|            Home|        0|1539792475000|\n",
      "| paid|      929|       Downgrade|        0|1539799228000|\n",
      "| paid|      929|          Logout|        0|1539799674000|\n",
      "| paid|      929|        Settings|        0|1539806528000|\n",
      "| paid|      929|   Save Settings|        0|1539806529000|\n",
      "| paid|      929|      Add Friend|        0|1539806559000|\n",
      "| paid|     1000|            Home|        0|1539956023000|\n",
      "| paid|     1000|      Add Friend|        0|1539956024000|\n",
      "| paid|     1000|        NextSong|        0|1539956085000|\n",
      "| paid|     1000|     Thumbs Down|        0|1539956971000|\n",
      "| paid|     1000| Add to Playlist|        0|1539962483000|\n",
      "| paid|     1000|       Thumbs Up|        0|1539964395000|\n",
      "| paid|     1000|          Logout|        0|1539970074000|\n",
      "| paid|     1071|            Home|        0|1540010993000|\n",
      "| paid|     1071|        NextSong|        0|1540011009000|\n",
      "| paid|     1071|      Add Friend|        0|1540011465000|\n",
      "| paid|     1071|       Thumbs Up|        0|1540011963000|\n",
      "| paid|     1071|          Logout|        0|1540013659000|\n",
      "| paid|     1095|            Home|        0|1540229216000|\n",
      "| paid|     1164|        NextSong|        0|1540232863000|\n",
      "| paid|     1164| Add to Playlist|        0|1540233549000|\n",
      "| paid|     1164|       Downgrade|        0|1540235299000|\n",
      "| paid|     1164|            Home|        0|1540235405000|\n",
      "| paid|     1164|     Thumbs Down|        0|1540235840000|\n",
      "| paid|     1164|       Thumbs Up|        0|1540237458000|\n",
      "| paid|     1164|        Settings|        0|1540244754000|\n",
      "| paid|     1164|            Help|        0|1540247613000|\n",
      "| paid|     1164|          Logout|        0|1540259616000|\n",
      "| paid|     1164|           Error|        0|1540276897000|\n",
      "| paid|     1187|        NextSong|        0|1540573271000|\n",
      "| paid|     1187|       Thumbs Up|        0|1540575626000|\n",
      "| paid|     1187|        Settings|        0|1540577186000|\n",
      "| paid|     1187|       Downgrade|        0|1540577236000|\n",
      "| paid|     1187|          Logout|        0|1540580047000|\n",
      "| paid|     1187|            Home|        0|1540580270000|\n",
      "| paid|     1187|     Thumbs Down|        0|1540584217000|\n",
      "| paid|     1187|      Add Friend|        0|1540588440000|\n",
      "| paid|     1187| Add to Playlist|        0|1540608282000|\n",
      "| paid|     1325|            Home|        0|1541096773000|\n",
      "| paid|     1325|        NextSong|        0|1541096859000|\n",
      "| paid|     1325|       Thumbs Up|        0|1541097775000|\n",
      "| paid|     1325| Add to Playlist|        0|1541100252000|\n",
      "| paid|     1325|       Downgrade|        0|1541102571000|\n",
      "| paid|     1325|     Thumbs Down|        0|1541113069000|\n",
      "| paid|     1325|            Help|        0|1541113176000|\n",
      "| paid|     1325|          Logout|        0|1541126987000|\n",
      "| paid|     1325|      Add Friend|        0|1541129714000|\n",
      "| paid|     1536|            Home|        0|1542060954000|\n",
      "| paid|     1536|        NextSong|        0|1542060955000|\n",
      "| paid|     1536|       Thumbs Up|        0|1542064069000|\n",
      "| paid|     1536|      Add Friend|        0|1542065920000|\n",
      "| paid|     1536| Add to Playlist|        0|1542068154000|\n",
      "| paid|     1536|            Help|        0|1542069857000|\n",
      "| paid|     1536|     Thumbs Down|        0|1542071954000|\n",
      "| paid|     1536|           Error|        0|1542074331000|\n",
      "| paid|     1536|       Downgrade|        0|1542082310000|\n",
      "| paid|     1536|        Settings|        0|1542086738000|\n",
      "| paid|     1536|   Save Settings|        0|1542086739000|\n",
      "| paid|     1881|        NextSong|        0|1542491397000|\n",
      "| paid|     1881|       Thumbs Up|        0|1542493657000|\n",
      "| paid|     1881|            Home|        0|1542497345000|\n",
      "| paid|     1881|     Thumbs Down|        0|1542502295000|\n",
      "| paid|     1881|           About|        0|1542504324000|\n",
      "| paid|     2041|        NextSong|        0|1542651137000|\n",
      "| paid|     2041|        Settings|        0|1542653115000|\n",
      "| paid|     2041| Add to Playlist|        0|1542653604000|\n",
      "| paid|     2041|       Downgrade|        0|1542654089000|\n",
      "| paid|     2041|       Thumbs Up|        0|1542655091000|\n",
      "| paid|     2041|     Thumbs Down|        0|1542658874000|\n",
      "| paid|     2041|            Help|        0|1542663511000|\n",
      "| paid|     2041|            Home|        0|1542665777000|\n",
      "| paid|     2041|      Add Friend|        0|1542669594000|\n",
      "| paid|     2041|Submit Downgrade|        1|1542671497000|\n",
      "| free|     2041|            Home|        0|1542671520000|\n",
      "| free|     2041|        NextSong|        0|1542671679000|\n",
      "| free|     2041|     Roll Advert|        0|1542672916000|\n",
      "| free|     2094|            Home|        0|1542799886000|\n",
      "| free|     2094|        NextSong|        0|1542799890000|\n",
      "| free|     2155|        NextSong|        0|1543109551000|\n",
      "| free|     2155| Add to Playlist|        0|1543109614000|\n",
      "| free|     2155|           About|        0|1543110822000|\n",
      "| free|     2155|       Thumbs Up|        0|1543111791000|\n",
      "| free|     2155|     Roll Advert|        0|1543114106000|\n",
      "| free|     2155|          Logout|        0|1543114535000|\n",
      "| free|     2155|            Home|        0|1543114842000|\n",
      "| free|     2155|     Thumbs Down|        0|1543117205000|\n",
      "| free|     2155|      Add Friend|        0|1543120417000|\n",
      "| free|     2281|            Home|        0|1543548083000|\n",
      "+-----+---------+----------------+---------+-------------+\n",
      "\n"
     ]
    }
   ],
   "source": [
    "#Cheking a user example\n",
    "down.filter((col('userId') == '131')).groupby(['level','sessionId','page','Downgrade']\\\n",
    "                                         ).agg(min(col('ts')).alias('ts')).sort(col('ts').asc()).show(1000)#"
   ]
  },
  {
   "cell_type": "code",
   "execution_count": 28,
   "metadata": {},
   "outputs": [
    {
     "data": {
      "image/png": "[encoded data removed]",
      "text/plain": [
       "<matplotlib.figure.Figure at 0x7fdcebab08d0>"
      ]
     },
     "metadata": {
      "needs_background": "light"
     },
     "output_type": "display_data"
    }
   ],
   "source": [
    "# Using a barchat to get the user proactive activities from the users that submitted downgrades \n",
    "\n",
    "pages = down.groupby('page','method').count()\n",
    "pages_df = pages.toPandas()\n",
    "pages_df_plt = pages_df.loc[(pages_df['method'] == 'PUT') & (pages_df['page'] != 'NextSong')]\n",
    "\n",
    "activity = pages_df_plt['page']\n",
    "count = pages_df_plt['count']\n",
    "\n",
    "plt.barh(activity, count)\n",
    "plt.ylabel('Page')\n",
    "plt.xlabel('Total Activities')\n",
    "plt.title('Downgraded User Activity Summary')\n",
    "\n",
    "plt.show()\n",
    "\n"
   ]
  },
  {
   "cell_type": "code",
   "execution_count": 29,
   "metadata": {},
   "outputs": [
    {
     "data": {
      "image/png": "[encoded data removed]",
      "text/plain": [
       "<matplotlib.figure.Figure at 0x7fdd1c0cc518>"
      ]
     },
     "metadata": {
      "needs_background": "light"
     },
     "output_type": "display_data"
    }
   ],
   "source": [
    "# Using a barchat to get the user proactive activities from all the users \n",
    "\n",
    "pages = df_clean.groupby('page','method').count()\n",
    "pages_df = pages.toPandas()\n",
    "pages_df_plt = pages_df.loc[(pages_df['method'] == 'PUT') & (pages_df['page'] != 'NextSong')]\n",
    "\n",
    "activity = pages_df_plt['page']\n",
    "count = pages_df_plt['count']\n",
    "\n",
    "plt.barh(activity, count)\n",
    "plt.ylabel('Page')\n",
    "plt.xlabel('Total Activities')\n",
    "plt.title('User Activity Summary')\n",
    "\n",
    "plt.show()"
   ]
  },
  {
   "cell_type": "code",
   "execution_count": 30,
   "metadata": {},
   "outputs": [],
   "source": [
    "#Getting only users without downgrade\n",
    "up = df_clean.join(ids, ['userId'], 'left_anti')"
   ]
  },
  {
   "cell_type": "code",
   "execution_count": 31,
   "metadata": {},
   "outputs": [
    {
     "name": "stdout",
     "output_type": "stream",
     "text": [
      "+----------------------+\n",
      "|count(DISTINCT userId)|\n",
      "+----------------------+\n",
      "|                   176|\n",
      "+----------------------+\n",
      "\n"
     ]
    }
   ],
   "source": [
    "up.select(countDistinct(\"userId\")).show()"
   ]
  },
  {
   "cell_type": "code",
   "execution_count": 32,
   "metadata": {},
   "outputs": [
    {
     "data": {
      "image/png": "[encoded data removed]",
      "text/plain": [
       "<matplotlib.figure.Figure at 0x7fdcebb16630>"
      ]
     },
     "metadata": {
      "needs_background": "light"
     },
     "output_type": "display_data"
    }
   ],
   "source": [
    "# Using a barchat to get the user proactive activities from  the users without downgrade\n",
    "\n",
    "pages = up.groupby('page','method').count()\n",
    "pages_df = pages.toPandas()\n",
    "pages_df_plt = pages_df.loc[(pages_df['method'] == 'PUT') & (pages_df['page'] != 'NextSong')]\n",
    "\n",
    "activity = pages_df_plt['page']\n",
    "count = pages_df_plt['count']\n",
    "\n",
    "plt.barh(activity, count)\n",
    "plt.ylabel('Page')\n",
    "plt.xlabel('Total Activities')\n",
    "plt.title('Non downgraded User Activity Summary')\n",
    "\n",
    "plt.show()"
   ]
  },
  {
   "cell_type": "markdown",
   "metadata": {},
   "source": [
    "### The user activity dosen't seen to be affected by the downgraded column as they have similar distributions.\n",
    "### Let's check if the user activity is different between paid and free users"
   ]
  },
  {
   "cell_type": "code",
   "execution_count": 33,
   "metadata": {},
   "outputs": [
    {
     "data": {
      "text/plain": [
       "[Row(artist='Martha Tilston', auth='Logged In', firstName='Colin', gender='M', itemInSession=50, lastName='Freeman', length=277.89016, level='paid', location='Bakersfield, CA', method='PUT', page='NextSong', registration=1538173362000, sessionId=29, song='Rockpools', status=200, ts=1538352117000, userAgent='Mozilla/5.0 (Windows NT 6.1; WOW64; rv:31.0) Gecko/20100101 Firefox/31.0', userId='30', churn=0, Downgrade=0, date=datetime.date(2018, 10, 1)),\n",
       " Row(artist='Five Iron Frenzy', auth='Logged In', firstName='Micah', gender='M', itemInSession=79, lastName='Long', length=236.09424, level='free', location='Boston-Cambridge-Newton, MA-NH', method='PUT', page='NextSong', registration=1538331630000, sessionId=8, song='Canada', status=200, ts=1538352180000, userAgent='\"Mozilla/5.0 (Windows NT 6.1; WOW64) AppleWebKit/537.36 (KHTML, like Gecko) Chrome/37.0.2062.103 Safari/537.36\"', userId='9', churn=0, Downgrade=0, date=datetime.date(2018, 10, 1))]"
      ]
     },
     "execution_count": 33,
     "metadata": {},
     "output_type": "execute_result"
    }
   ],
   "source": [
    "#creating the date column\n",
    "df_clean = df_clean.withColumn(\"date\", F.to_date(F.from_unixtime(col('ts')/lit(1000))))\n",
    "df_clean.take(2)"
   ]
  },
  {
   "cell_type": "code",
   "execution_count": 34,
   "metadata": {},
   "outputs": [],
   "source": [
    "#Selecting the dataframe cols\n",
    "time = df_clean.select(['date', 'level', 'userId', 'song','sessionId']).groupby(['date', 'level'])\\\n",
    ".agg(F.countDistinct('userId'), F.count('song'), F.count('sessionId'))"
   ]
  },
  {
   "cell_type": "code",
   "execution_count": 35,
   "metadata": {},
   "outputs": [
    {
     "data": {
      "text/html": [
       "<div>\n",
       "<style scoped>\n",
       "    .dataframe tbody tr th:only-of-type {\n",
       "        vertical-align: middle;\n",
       "    }\n",
       "\n",
       "    .dataframe tbody tr th {\n",
       "        vertical-align: top;\n",
       "    }\n",
       "\n",
       "    .dataframe thead th {\n",
       "        text-align: right;\n",
       "    }\n",
       "</style>\n",
       "<table border=\"1\" class=\"dataframe\">\n",
       "  <thead>\n",
       "    <tr style=\"text-align: right;\">\n",
       "      <th></th>\n",
       "      <th>date</th>\n",
       "      <th>level</th>\n",
       "      <th>count(DISTINCT userId)</th>\n",
       "      <th>count(song)</th>\n",
       "      <th>count(sessionId)</th>\n",
       "    </tr>\n",
       "  </thead>\n",
       "  <tbody>\n",
       "    <tr>\n",
       "      <th>0</th>\n",
       "      <td>2018-11-25</td>\n",
       "      <td>paid</td>\n",
       "      <td>20</td>\n",
       "      <td>2000</td>\n",
       "      <td>2376</td>\n",
       "    </tr>\n",
       "    <tr>\n",
       "      <th>1</th>\n",
       "      <td>2018-10-27</td>\n",
       "      <td>free</td>\n",
       "      <td>13</td>\n",
       "      <td>427</td>\n",
       "      <td>548</td>\n",
       "    </tr>\n",
       "    <tr>\n",
       "      <th>2</th>\n",
       "      <td>2018-10-24</td>\n",
       "      <td>paid</td>\n",
       "      <td>48</td>\n",
       "      <td>3831</td>\n",
       "      <td>4577</td>\n",
       "    </tr>\n",
       "    <tr>\n",
       "      <th>3</th>\n",
       "      <td>2018-10-20</td>\n",
       "      <td>paid</td>\n",
       "      <td>33</td>\n",
       "      <td>4107</td>\n",
       "      <td>4881</td>\n",
       "    </tr>\n",
       "    <tr>\n",
       "      <th>4</th>\n",
       "      <td>2018-10-20</td>\n",
       "      <td>free</td>\n",
       "      <td>19</td>\n",
       "      <td>605</td>\n",
       "      <td>816</td>\n",
       "    </tr>\n",
       "  </tbody>\n",
       "</table>\n",
       "</div>"
      ],
      "text/plain": [
       "         date level  count(DISTINCT userId)  count(song)  count(sessionId)\n",
       "0  2018-11-25  paid                      20         2000              2376\n",
       "1  2018-10-27  free                      13          427               548\n",
       "2  2018-10-24  paid                      48         3831              4577\n",
       "3  2018-10-20  paid                      33         4107              4881\n",
       "4  2018-10-20  free                      19          605               816"
      ]
     },
     "execution_count": 35,
     "metadata": {},
     "output_type": "execute_result"
    }
   ],
   "source": [
    "df_time = time.toPandas()\n",
    "df_time.head()"
   ]
  },
  {
   "cell_type": "code",
   "execution_count": 36,
   "metadata": {},
   "outputs": [
    {
     "data": {
      "image/png": "[encoded data removed]",
      "text/plain": [
       "<matplotlib.figure.Figure at 0x7fdce8e484a8>"
      ]
     },
     "metadata": {
      "needs_background": "light"
     },
     "output_type": "display_data"
    }
   ],
   "source": [
    "#Creating a plot to show the difference\n",
    "plt.figure(figsize=(8, 8))\n",
    "\n",
    "#Setting the date axis\n",
    "plt.gca().xaxis.set_major_formatter(mdates.DateFormatter('%m/%d/%Y'))\n",
    "plt.gca().xaxis.set_major_locator(mdates.DayLocator(interval=15))\n",
    "\n",
    "#Ploting the data for the paid and free users\n",
    "plt.plot_date(df_time['date'][df_time.level == \"paid\"], df_time['count(sessionId)'][df_time.level == \"paid\"], label = 'paid')\n",
    "plt.plot_date(df_time['date'][df_time.level == \"free\"], df_time['count(sessionId)'][df_time.level == \"free\"], label = 'free')\n",
    "\n",
    "plt.legend(loc='upper right')\n",
    "plt.xlabel('Date')\n",
    "plt.ylabel('Distinct User')\n",
    "plt.title('Distinct User Summary')\n",
    "\n",
    "plt.show()"
   ]
  },
  {
   "cell_type": "markdown",
   "metadata": {},
   "source": [
    "### The paid users are more active in general than the free ones."
   ]
  },
  {
   "cell_type": "markdown",
   "metadata": {},
   "source": [
    "### Each entry has a time stamp, with this we can get the 'age' of the user interaction."
   ]
  },
  {
   "cell_type": "code",
   "execution_count": 37,
   "metadata": {},
   "outputs": [],
   "source": [
    "# Transforming the registration date as a date.\n",
    "df_clean = df_clean.withColumn(\"date_created\", F.to_date(F.from_unixtime(col('registration')/lit(1000))))"
   ]
  },
  {
   "cell_type": "code",
   "execution_count": 38,
   "metadata": {},
   "outputs": [],
   "source": [
    "# Creating the difference between the creation and the activity\n",
    "df_clean = df_clean.withColumn(\"time_from_creation\", F.datediff('date','date_created'))"
   ]
  },
  {
   "cell_type": "code",
   "execution_count": 39,
   "metadata": {
    "scrolled": true
   },
   "outputs": [
    {
     "data": {
      "text/plain": [
       "[Row(artist='Martha Tilston', auth='Logged In', firstName='Colin', gender='M', itemInSession=50, lastName='Freeman', length=277.89016, level='paid', location='Bakersfield, CA', method='PUT', page='NextSong', registration=1538173362000, sessionId=29, song='Rockpools', status=200, ts=1538352117000, userAgent='Mozilla/5.0 (Windows NT 6.1; WOW64; rv:31.0) Gecko/20100101 Firefox/31.0', userId='30', churn=0, Downgrade=0, date=datetime.date(2018, 10, 1), date_created=datetime.date(2018, 9, 28), time_from_creation=3)]"
      ]
     },
     "execution_count": 39,
     "metadata": {},
     "output_type": "execute_result"
    }
   ],
   "source": [
    "df_clean.take(1)"
   ]
  },
  {
   "cell_type": "code",
   "execution_count": 40,
   "metadata": {},
   "outputs": [],
   "source": [
    "#filtering the DF\n",
    "df_time= df_clean.select(['userId','Downgrade','churn',\"time_from_creation\"]).toPandas()"
   ]
  },
  {
   "cell_type": "code",
   "execution_count": 41,
   "metadata": {},
   "outputs": [
    {
     "data": {
      "text/plain": [
       "Text(0.5,1,'Distribution of the interactions by their \"age\" ')"
      ]
     },
     "execution_count": 41,
     "metadata": {},
     "output_type": "execute_result"
    },
    {
     "data": {
      "image/png": "[encoded data removed]",
      "text/plain": [
       "<matplotlib.figure.Figure at 0x7fdce8c871d0>"
      ]
     },
     "metadata": {
      "needs_background": "light"
     },
     "output_type": "display_data"
    }
   ],
   "source": [
    "#Plotting the general distribution\n",
    "df_time['time_from_creation'].hist()\n",
    "plt.xlabel('Time since creation (d) ')\n",
    "plt.ylabel('Count')\n",
    "plt.title('Distribution of the interactions by their \"age\" ')"
   ]
  },
  {
   "cell_type": "code",
   "execution_count": 42,
   "metadata": {},
   "outputs": [
    {
     "data": {
      "image/png": "[encoded data removed]",
      "text/plain": [
       "<matplotlib.figure.Figure at 0x7fdce8e1d518>"
      ]
     },
     "metadata": {
      "needs_background": "light"
     },
     "output_type": "display_data"
    }
   ],
   "source": [
    "#Plotting the Downgraded distribution by both values\n",
    "\n",
    "#Subploting\n",
    "figure, axis = plt.subplots(1, 2,figsize=(10, 5))\n",
    "\n",
    "# Downgraded Plot\n",
    "df_temp = df_time[df_time['Downgrade']==1]\n",
    "df_temp['time_from_creation'].hist(ax=axis[0])\n",
    "axis[0].set_title('Interactions of the users that Downgraded by their \"age\"')\n",
    "axis[0].set_ylabel('Count')\n",
    "axis[0].set_xlabel('Time since creation (d)')\n",
    "\n",
    "# Not Downgraded Plot\n",
    "df_temp = df_time[df_time['Downgrade']==0]\n",
    "df_temp['time_from_creation'].hist(ax=axis[1])\n",
    "axis[1].set_title('Interactions of the users NOT Downgraded by their \"age\"')\n",
    "axis[1].set_xlabel('Time since creation (d)')\n",
    "\n",
    "figure.tight_layout(w_pad = 10 )"
   ]
  },
  {
   "cell_type": "code",
   "execution_count": 43,
   "metadata": {},
   "outputs": [
    {
     "data": {
      "image/png": "[encoded data removed]",
      "text/plain": [
       "<matplotlib.figure.Figure at 0x7fdceba8ebe0>"
      ]
     },
     "metadata": {
      "needs_background": "light"
     },
     "output_type": "display_data"
    }
   ],
   "source": [
    "#Plotting the cancelled distribution by both values\n",
    "\n",
    "#Subploting\n",
    "figure, axis = plt.subplots(1, 2,figsize=(10, 5))\n",
    "\n",
    "# Cancelled Plot\n",
    "df_temp = df_time[df_time['churn']==1]\n",
    "df_temp['time_from_creation'].hist(ax=axis[0])\n",
    "axis[0].set_title('Interactions of the users that cancelled by their \"age\"')\n",
    "axis[0].set_ylabel('Count')\n",
    "axis[0].set_xlabel('Time since creation (d)')\n",
    "\n",
    "# Not Cancelled Plot\n",
    "df_temp = df_time[df_time['churn']==0]\n",
    "df_temp['time_from_creation'].hist(ax=axis[1])\n",
    "axis[1].set_title('Interactions of the users NOT cancelled by their \"age\"')\n",
    "axis[1].set_xlabel('Time since creation (d)')\n",
    "\n",
    "figure.tight_layout(w_pad = 10 )"
   ]
  },
  {
   "cell_type": "markdown",
   "metadata": {},
   "source": [
    "### As we can see there are differences in the interaction time between the users categories. But the two groups are very different in their count. Let's see if the max interaction (the 'age' of the final user interaction since user admission) can show a more clear relation."
   ]
  },
  {
   "cell_type": "code",
   "execution_count": 44,
   "metadata": {},
   "outputs": [],
   "source": [
    "df_time_agg = df_time.groupby(['userId','churn','Downgrade']).time_from_creation.max()"
   ]
  },
  {
   "cell_type": "code",
   "execution_count": 45,
   "metadata": {
    "scrolled": true
   },
   "outputs": [
    {
     "data": {
      "text/plain": [
       "userId  churn  Downgrade\n",
       "10      0      0            52\n",
       "100     0      0            65\n",
       "               1            39\n",
       "100001  0      0            45\n",
       "        1      0            45\n",
       "Name: time_from_creation, dtype: int32"
      ]
     },
     "execution_count": 45,
     "metadata": {},
     "output_type": "execute_result"
    }
   ],
   "source": [
    "df_time_agg.head()"
   ]
  },
  {
   "cell_type": "code",
   "execution_count": 46,
   "metadata": {},
   "outputs": [
    {
     "data": {
      "text/plain": [
       "Text(0.5,1,'Distribution of the \"age\" of the last interaction by user')"
      ]
     },
     "execution_count": 46,
     "metadata": {},
     "output_type": "execute_result"
    },
    {
     "data": {
      "image/png": "[encoded data removed]",
      "text/plain": [
       "<matplotlib.figure.Figure at 0x7fdce8d96198>"
      ]
     },
     "metadata": {
      "needs_background": "light"
     },
     "output_type": "display_data"
    }
   ],
   "source": [
    "df_time_agg.hist()\n",
    "plt.xlabel('Time since creation (d) ')\n",
    "plt.ylabel('Count')\n",
    "plt.title('Distribution of the \"age\" of the last interaction by user')"
   ]
  },
  {
   "cell_type": "code",
   "execution_count": 47,
   "metadata": {},
   "outputs": [
    {
     "data": {
      "image/png": "[encoded data removed]",
      "text/plain": [
       "<matplotlib.figure.Figure at 0x7fdce8b624e0>"
      ]
     },
     "metadata": {
      "needs_background": "light"
     },
     "output_type": "display_data"
    }
   ],
   "source": [
    "figure, axis = plt.subplots(1, 2,figsize=(10, 5))\n",
    "df_time_agg.hist(by='churn', ax=axis)\n",
    "plt.suptitle('Distribution of the \"age\" of the last interaction by user', x=0.5, y=1.05, fontsize='xx-large')\n",
    "\n",
    "axis[0].set_title('Not Churned')\n",
    "axis[0].set_ylabel('Count')\n",
    "axis[0].set_xlabel('Time since creation (d)')\n",
    "\n",
    "axis[1].set_title('Churned')\n",
    "axis[1].set_ylabel('Count')\n",
    "axis[1].set_xlabel('Time since creation (d)')\n",
    "\n",
    "figure.tight_layout(w_pad = 10 )"
   ]
  },
  {
   "cell_type": "code",
   "execution_count": 48,
   "metadata": {},
   "outputs": [
    {
     "data": {
      "image/png": "[encoded data removed]",
      "text/plain": [
       "<matplotlib.figure.Figure at 0x7fdce87e3c88>"
      ]
     },
     "metadata": {
      "needs_background": "light"
     },
     "output_type": "display_data"
    }
   ],
   "source": [
    "figure, axis = plt.subplots(1, 2,figsize=(10, 5))\n",
    "df_time_agg.hist(by='Downgrade', ax=axis)\n",
    "plt.suptitle('Distribution of the \"age\" of the last interaction by user', x=0.5, y=1.05, fontsize='xx-large')\n",
    "\n",
    "axis[0].set_title('Not Downgraded')\n",
    "axis[0].set_ylabel('Count')\n",
    "axis[0].set_xlabel('Time since creation (d)')\n",
    "\n",
    "axis[1].set_title('Downgraded')\n",
    "axis[1].set_ylabel('Count')\n",
    "axis[1].set_xlabel('Time since creation (d)')\n",
    "\n",
    "figure.tight_layout(w_pad = 10 )"
   ]
  },
  {
   "cell_type": "markdown",
   "metadata": {},
   "source": [
    "### The 'age' of the last user interaction since user admission showns almost a normal distribution with the mode close to 75 days. We cannot tell much for the cancelled and churned users as there is too few observations."
   ]
  },
  {
   "cell_type": "markdown",
   "metadata": {},
   "source": [
    "## Now i will transform the data from categorical to numeric for further use"
   ]
  },
  {
   "cell_type": "code",
   "execution_count": 49,
   "metadata": {},
   "outputs": [],
   "source": [
    "# Convert gender to binary. 1 = female\n",
    "female = udf(lambda x: 1 if x == 'F' else 0, IntegerType())\n",
    "df_clean = df_clean.withColumn('gender_binary', female('gender'))"
   ]
  },
  {
   "cell_type": "code",
   "execution_count": 50,
   "metadata": {},
   "outputs": [],
   "source": [
    "# Convert level to binary. 1 = paid\n",
    "level = udf(lambda x: 1 if x == 'paid' else 0, IntegerType())\n",
    "df_clean = df_clean.withColumn('paid_user', level('level'))"
   ]
  },
  {
   "cell_type": "code",
   "execution_count": 51,
   "metadata": {},
   "outputs": [],
   "source": [
    "# Convert songs played to binary.\n",
    "songs = udf(lambda x: 1 if x == 'NextSong' else 0, IntegerType())\n",
    "df_clean = df_clean.withColumn('played_song', songs('page'))"
   ]
  },
  {
   "cell_type": "code",
   "execution_count": 52,
   "metadata": {},
   "outputs": [],
   "source": [
    "# Get user interactions except for playing songs\n",
    "inter = ['Thumbs Up', 'Thumbs Down', 'Add to Playlist', 'Add Friend']\n",
    "get_interactions = udf(lambda x: 1 if x in inter else 0, IntegerType())\n",
    "df_clean = df_clean.withColumn('interactions', get_interactions('page'))"
   ]
  },
  {
   "cell_type": "code",
   "execution_count": 53,
   "metadata": {},
   "outputs": [
    {
     "data": {
      "text/plain": [
       "[Row(artist='Martha Tilston', auth='Logged In', firstName='Colin', gender='M', itemInSession=50, lastName='Freeman', length=277.89016, level='paid', location='Bakersfield, CA', method='PUT', page='NextSong', registration=1538173362000, sessionId=29, song='Rockpools', status=200, ts=1538352117000, userAgent='Mozilla/5.0 (Windows NT 6.1; WOW64; rv:31.0) Gecko/20100101 Firefox/31.0', userId='30', churn=0, Downgrade=0, date=datetime.date(2018, 10, 1), date_created=datetime.date(2018, 9, 28), time_from_creation=3, gender_binary=0, paid_user=1, played_song=1, interactions=0),\n",
       " Row(artist='Five Iron Frenzy', auth='Logged In', firstName='Micah', gender='M', itemInSession=79, lastName='Long', length=236.09424, level='free', location='Boston-Cambridge-Newton, MA-NH', method='PUT', page='NextSong', registration=1538331630000, sessionId=8, song='Canada', status=200, ts=1538352180000, userAgent='\"Mozilla/5.0 (Windows NT 6.1; WOW64) AppleWebKit/537.36 (KHTML, like Gecko) Chrome/37.0.2062.103 Safari/537.36\"', userId='9', churn=0, Downgrade=0, date=datetime.date(2018, 10, 1), date_created=datetime.date(2018, 9, 30), time_from_creation=1, gender_binary=0, paid_user=0, played_song=1, interactions=0)]"
      ]
     },
     "execution_count": 53,
     "metadata": {},
     "output_type": "execute_result"
    }
   ],
   "source": [
    "df_clean.take(2)"
   ]
  },
  {
   "cell_type": "code",
   "execution_count": 54,
   "metadata": {
    "scrolled": true
   },
   "outputs": [
    {
     "name": "stdout",
     "output_type": "stream",
     "text": [
      "root\n",
      " |-- artist: string (nullable = true)\n",
      " |-- auth: string (nullable = true)\n",
      " |-- firstName: string (nullable = true)\n",
      " |-- gender: string (nullable = true)\n",
      " |-- itemInSession: long (nullable = true)\n",
      " |-- lastName: string (nullable = true)\n",
      " |-- length: double (nullable = true)\n",
      " |-- level: string (nullable = true)\n",
      " |-- location: string (nullable = true)\n",
      " |-- method: string (nullable = true)\n",
      " |-- page: string (nullable = true)\n",
      " |-- registration: long (nullable = true)\n",
      " |-- sessionId: long (nullable = true)\n",
      " |-- song: string (nullable = true)\n",
      " |-- status: long (nullable = true)\n",
      " |-- ts: long (nullable = true)\n",
      " |-- userAgent: string (nullable = true)\n",
      " |-- userId: string (nullable = true)\n",
      " |-- churn: integer (nullable = true)\n",
      " |-- Downgrade: integer (nullable = true)\n",
      " |-- date: date (nullable = true)\n",
      " |-- date_created: date (nullable = true)\n",
      " |-- time_from_creation: integer (nullable = true)\n",
      " |-- gender_binary: integer (nullable = true)\n",
      " |-- paid_user: integer (nullable = true)\n",
      " |-- played_song: integer (nullable = true)\n",
      " |-- interactions: integer (nullable = true)\n",
      "\n"
     ]
    }
   ],
   "source": [
    "df_clean.printSchema()"
   ]
  },
  {
   "cell_type": "markdown",
   "metadata": {},
   "source": [
    "### Here i create the model that will be evaluated for use in the Machine Learning"
   ]
  },
  {
   "cell_type": "code",
   "execution_count": 55,
   "metadata": {},
   "outputs": [],
   "source": [
    "# Get model grouping the userId \n",
    "model_df = df_clean.groupby('userId').agg(\\\n",
    "                                                          max('churn').alias('churn_rate'),\\\n",
    "                                                          max('Downgrade').alias('Downgrade'),\\\n",
    "                                                          avg('time_from_creation').alias('time_from_creation'),\\\n",
    "                                                          max('gender_binary').alias('gender'),\\\n",
    "                                                          max('paid_user').alias('paid_user'),\\\n",
    "                                                          sum('played_song').alias('total_songs_played'),\\\n",
    "                                                          sum('interactions').alias('interactions'),\\\n",
    "                                         max('date').alias('date'),\\\n",
    "                                         max('date_created').alias('date_created'))"
   ]
  },
  {
   "cell_type": "code",
   "execution_count": 56,
   "metadata": {},
   "outputs": [],
   "source": [
    "# getting the session time ('age')\n",
    "model_df = model_df.withColumn(\"session_time\", F.datediff('date','date_created'))"
   ]
  },
  {
   "cell_type": "code",
   "execution_count": 57,
   "metadata": {},
   "outputs": [],
   "source": [
    "model_df = model_df.drop('date')"
   ]
  },
  {
   "cell_type": "code",
   "execution_count": 58,
   "metadata": {
    "scrolled": false
   },
   "outputs": [
    {
     "name": "stdout",
     "output_type": "stream",
     "text": [
      "root\n",
      " |-- userId: string (nullable = true)\n",
      " |-- churn_rate: integer (nullable = true)\n",
      " |-- Downgrade: integer (nullable = true)\n",
      " |-- time_from_creation: double (nullable = true)\n",
      " |-- gender: integer (nullable = true)\n",
      " |-- paid_user: integer (nullable = true)\n",
      " |-- total_songs_played: long (nullable = true)\n",
      " |-- interactions: long (nullable = true)\n",
      " |-- date_created: date (nullable = true)\n",
      " |-- session_time: integer (nullable = true)\n",
      "\n"
     ]
    }
   ],
   "source": [
    "model_df.printSchema()"
   ]
  },
  {
   "cell_type": "code",
   "execution_count": 59,
   "metadata": {},
   "outputs": [],
   "source": [
    "model_df = model_df.toPandas()"
   ]
  },
  {
   "cell_type": "code",
   "execution_count": 60,
   "metadata": {},
   "outputs": [
    {
     "data": {
      "text/html": [
       "<div>\n",
       "<style scoped>\n",
       "    .dataframe tbody tr th:only-of-type {\n",
       "        vertical-align: middle;\n",
       "    }\n",
       "\n",
       "    .dataframe tbody tr th {\n",
       "        vertical-align: top;\n",
       "    }\n",
       "\n",
       "    .dataframe thead th {\n",
       "        text-align: right;\n",
       "    }\n",
       "</style>\n",
       "<table border=\"1\" class=\"dataframe\">\n",
       "  <thead>\n",
       "    <tr style=\"text-align: right;\">\n",
       "      <th></th>\n",
       "      <th>userId</th>\n",
       "      <th>churn_rate</th>\n",
       "      <th>Downgrade</th>\n",
       "      <th>time_from_creation</th>\n",
       "      <th>gender</th>\n",
       "      <th>paid_user</th>\n",
       "      <th>total_songs_played</th>\n",
       "      <th>interactions</th>\n",
       "      <th>date_created</th>\n",
       "      <th>session_time</th>\n",
       "    </tr>\n",
       "  </thead>\n",
       "  <tbody>\n",
       "    <tr>\n",
       "      <th>0</th>\n",
       "      <td>100010</td>\n",
       "      <td>0</td>\n",
       "      <td>0</td>\n",
       "      <td>32.719160</td>\n",
       "      <td>1</td>\n",
       "      <td>0</td>\n",
       "      <td>275</td>\n",
       "      <td>33</td>\n",
       "      <td>2018-09-27</td>\n",
       "      <td>55</td>\n",
       "    </tr>\n",
       "    <tr>\n",
       "      <th>1</th>\n",
       "      <td>200002</td>\n",
       "      <td>0</td>\n",
       "      <td>0</td>\n",
       "      <td>49.748945</td>\n",
       "      <td>0</td>\n",
       "      <td>1</td>\n",
       "      <td>387</td>\n",
       "      <td>39</td>\n",
       "      <td>2018-09-06</td>\n",
       "      <td>70</td>\n",
       "    </tr>\n",
       "    <tr>\n",
       "      <th>2</th>\n",
       "      <td>125</td>\n",
       "      <td>1</td>\n",
       "      <td>0</td>\n",
       "      <td>72.000000</td>\n",
       "      <td>0</td>\n",
       "      <td>0</td>\n",
       "      <td>8</td>\n",
       "      <td>0</td>\n",
       "      <td>2018-08-01</td>\n",
       "      <td>72</td>\n",
       "    </tr>\n",
       "    <tr>\n",
       "      <th>3</th>\n",
       "      <td>51</td>\n",
       "      <td>1</td>\n",
       "      <td>0</td>\n",
       "      <td>11.103490</td>\n",
       "      <td>0</td>\n",
       "      <td>1</td>\n",
       "      <td>2111</td>\n",
       "      <td>201</td>\n",
       "      <td>2018-09-27</td>\n",
       "      <td>20</td>\n",
       "    </tr>\n",
       "    <tr>\n",
       "      <th>4</th>\n",
       "      <td>124</td>\n",
       "      <td>0</td>\n",
       "      <td>0</td>\n",
       "      <td>98.440207</td>\n",
       "      <td>1</td>\n",
       "      <td>1</td>\n",
       "      <td>4079</td>\n",
       "      <td>404</td>\n",
       "      <td>2018-07-22</td>\n",
       "      <td>131</td>\n",
       "    </tr>\n",
       "  </tbody>\n",
       "</table>\n",
       "</div>"
      ],
      "text/plain": [
       "   userId  churn_rate  Downgrade  time_from_creation  gender  paid_user  \\\n",
       "0  100010           0          0           32.719160       1          0   \n",
       "1  200002           0          0           49.748945       0          1   \n",
       "2     125           1          0           72.000000       0          0   \n",
       "3      51           1          0           11.103490       0          1   \n",
       "4     124           0          0           98.440207       1          1   \n",
       "\n",
       "   total_songs_played  interactions date_created  session_time  \n",
       "0                 275            33   2018-09-27            55  \n",
       "1                 387            39   2018-09-06            70  \n",
       "2                   8             0   2018-08-01            72  \n",
       "3                2111           201   2018-09-27            20  \n",
       "4                4079           404   2018-07-22           131  "
      ]
     },
     "execution_count": 60,
     "metadata": {},
     "output_type": "execute_result"
    }
   ],
   "source": [
    "model_df.head()"
   ]
  },
  {
   "cell_type": "code",
   "execution_count": 61,
   "metadata": {},
   "outputs": [
    {
     "data": {
      "text/html": [
       "<div>\n",
       "<style scoped>\n",
       "    .dataframe tbody tr th:only-of-type {\n",
       "        vertical-align: middle;\n",
       "    }\n",
       "\n",
       "    .dataframe tbody tr th {\n",
       "        vertical-align: top;\n",
       "    }\n",
       "\n",
       "    .dataframe thead th {\n",
       "        text-align: right;\n",
       "    }\n",
       "</style>\n",
       "<table border=\"1\" class=\"dataframe\">\n",
       "  <thead>\n",
       "    <tr style=\"text-align: right;\">\n",
       "      <th></th>\n",
       "      <th>churn_rate</th>\n",
       "      <th>Downgrade</th>\n",
       "      <th>time_from_creation</th>\n",
       "      <th>gender</th>\n",
       "      <th>paid_user</th>\n",
       "      <th>total_songs_played</th>\n",
       "      <th>interactions</th>\n",
       "      <th>session_time</th>\n",
       "    </tr>\n",
       "  </thead>\n",
       "  <tbody>\n",
       "    <tr>\n",
       "      <th>count</th>\n",
       "      <td>225.000000</td>\n",
       "      <td>225.000000</td>\n",
       "      <td>225.000000</td>\n",
       "      <td>225.000000</td>\n",
       "      <td>225.000000</td>\n",
       "      <td>225.000000</td>\n",
       "      <td>225.000000</td>\n",
       "      <td>225.000000</td>\n",
       "    </tr>\n",
       "    <tr>\n",
       "      <th>mean</th>\n",
       "      <td>0.231111</td>\n",
       "      <td>0.217778</td>\n",
       "      <td>60.169310</td>\n",
       "      <td>0.462222</td>\n",
       "      <td>0.733333</td>\n",
       "      <td>1013.813333</td>\n",
       "      <td>115.111111</td>\n",
       "      <td>79.817778</td>\n",
       "    </tr>\n",
       "    <tr>\n",
       "      <th>std</th>\n",
       "      <td>0.422483</td>\n",
       "      <td>0.413656</td>\n",
       "      <td>34.942479</td>\n",
       "      <td>0.499682</td>\n",
       "      <td>0.443203</td>\n",
       "      <td>1104.960779</td>\n",
       "      <td>127.092068</td>\n",
       "      <td>37.625358</td>\n",
       "    </tr>\n",
       "    <tr>\n",
       "      <th>min</th>\n",
       "      <td>0.000000</td>\n",
       "      <td>0.000000</td>\n",
       "      <td>0.000000</td>\n",
       "      <td>0.000000</td>\n",
       "      <td>0.000000</td>\n",
       "      <td>3.000000</td>\n",
       "      <td>0.000000</td>\n",
       "      <td>0.000000</td>\n",
       "    </tr>\n",
       "    <tr>\n",
       "      <th>25%</th>\n",
       "      <td>0.000000</td>\n",
       "      <td>0.000000</td>\n",
       "      <td>36.666667</td>\n",
       "      <td>0.000000</td>\n",
       "      <td>0.000000</td>\n",
       "      <td>230.000000</td>\n",
       "      <td>26.000000</td>\n",
       "      <td>59.000000</td>\n",
       "    </tr>\n",
       "    <tr>\n",
       "      <th>50%</th>\n",
       "      <td>0.000000</td>\n",
       "      <td>0.000000</td>\n",
       "      <td>51.064516</td>\n",
       "      <td>0.000000</td>\n",
       "      <td>1.000000</td>\n",
       "      <td>675.000000</td>\n",
       "      <td>76.000000</td>\n",
       "      <td>73.000000</td>\n",
       "    </tr>\n",
       "    <tr>\n",
       "      <th>75%</th>\n",
       "      <td>0.000000</td>\n",
       "      <td>0.000000</td>\n",
       "      <td>78.833795</td>\n",
       "      <td>1.000000</td>\n",
       "      <td>1.000000</td>\n",
       "      <td>1571.000000</td>\n",
       "      <td>171.000000</td>\n",
       "      <td>101.000000</td>\n",
       "    </tr>\n",
       "    <tr>\n",
       "      <th>max</th>\n",
       "      <td>1.000000</td>\n",
       "      <td>1.000000</td>\n",
       "      <td>230.464238</td>\n",
       "      <td>1.000000</td>\n",
       "      <td>1.000000</td>\n",
       "      <td>8002.000000</td>\n",
       "      <td>819.000000</td>\n",
       "      <td>256.000000</td>\n",
       "    </tr>\n",
       "  </tbody>\n",
       "</table>\n",
       "</div>"
      ],
      "text/plain": [
       "       churn_rate   Downgrade  time_from_creation      gender   paid_user  \\\n",
       "count  225.000000  225.000000          225.000000  225.000000  225.000000   \n",
       "mean     0.231111    0.217778           60.169310    0.462222    0.733333   \n",
       "std      0.422483    0.413656           34.942479    0.499682    0.443203   \n",
       "min      0.000000    0.000000            0.000000    0.000000    0.000000   \n",
       "25%      0.000000    0.000000           36.666667    0.000000    0.000000   \n",
       "50%      0.000000    0.000000           51.064516    0.000000    1.000000   \n",
       "75%      0.000000    0.000000           78.833795    1.000000    1.000000   \n",
       "max      1.000000    1.000000          230.464238    1.000000    1.000000   \n",
       "\n",
       "       total_songs_played  interactions  session_time  \n",
       "count          225.000000    225.000000    225.000000  \n",
       "mean          1013.813333    115.111111     79.817778  \n",
       "std           1104.960779    127.092068     37.625358  \n",
       "min              3.000000      0.000000      0.000000  \n",
       "25%            230.000000     26.000000     59.000000  \n",
       "50%            675.000000     76.000000     73.000000  \n",
       "75%           1571.000000    171.000000    101.000000  \n",
       "max           8002.000000    819.000000    256.000000  "
      ]
     },
     "execution_count": 61,
     "metadata": {},
     "output_type": "execute_result"
    }
   ],
   "source": [
    "model_df.describe()"
   ]
  },
  {
   "cell_type": "code",
   "execution_count": 62,
   "metadata": {},
   "outputs": [
    {
     "data": {
      "text/html": [
       "<div>\n",
       "<style scoped>\n",
       "    .dataframe tbody tr th:only-of-type {\n",
       "        vertical-align: middle;\n",
       "    }\n",
       "\n",
       "    .dataframe tbody tr th {\n",
       "        vertical-align: top;\n",
       "    }\n",
       "\n",
       "    .dataframe thead th {\n",
       "        text-align: right;\n",
       "    }\n",
       "</style>\n",
       "<table border=\"1\" class=\"dataframe\">\n",
       "  <thead>\n",
       "    <tr style=\"text-align: right;\">\n",
       "      <th></th>\n",
       "      <th>userId</th>\n",
       "      <th>churn_rate</th>\n",
       "      <th>Downgrade</th>\n",
       "      <th>time_from_creation</th>\n",
       "      <th>gender</th>\n",
       "      <th>paid_user</th>\n",
       "      <th>total_songs_played</th>\n",
       "      <th>interactions</th>\n",
       "      <th>date_created</th>\n",
       "      <th>session_time</th>\n",
       "    </tr>\n",
       "  </thead>\n",
       "  <tbody>\n",
       "    <tr>\n",
       "      <th>0</th>\n",
       "      <td>100010</td>\n",
       "      <td>0</td>\n",
       "      <td>0</td>\n",
       "      <td>32.719160</td>\n",
       "      <td>1</td>\n",
       "      <td>0</td>\n",
       "      <td>275</td>\n",
       "      <td>33</td>\n",
       "      <td>2018-09-27</td>\n",
       "      <td>55</td>\n",
       "    </tr>\n",
       "    <tr>\n",
       "      <th>1</th>\n",
       "      <td>200002</td>\n",
       "      <td>0</td>\n",
       "      <td>0</td>\n",
       "      <td>49.748945</td>\n",
       "      <td>0</td>\n",
       "      <td>1</td>\n",
       "      <td>387</td>\n",
       "      <td>39</td>\n",
       "      <td>2018-09-06</td>\n",
       "      <td>70</td>\n",
       "    </tr>\n",
       "    <tr>\n",
       "      <th>2</th>\n",
       "      <td>125</td>\n",
       "      <td>1</td>\n",
       "      <td>0</td>\n",
       "      <td>72.000000</td>\n",
       "      <td>0</td>\n",
       "      <td>0</td>\n",
       "      <td>8</td>\n",
       "      <td>0</td>\n",
       "      <td>2018-08-01</td>\n",
       "      <td>72</td>\n",
       "    </tr>\n",
       "    <tr>\n",
       "      <th>3</th>\n",
       "      <td>51</td>\n",
       "      <td>1</td>\n",
       "      <td>0</td>\n",
       "      <td>11.103490</td>\n",
       "      <td>0</td>\n",
       "      <td>1</td>\n",
       "      <td>2111</td>\n",
       "      <td>201</td>\n",
       "      <td>2018-09-27</td>\n",
       "      <td>20</td>\n",
       "    </tr>\n",
       "    <tr>\n",
       "      <th>4</th>\n",
       "      <td>124</td>\n",
       "      <td>0</td>\n",
       "      <td>0</td>\n",
       "      <td>98.440207</td>\n",
       "      <td>1</td>\n",
       "      <td>1</td>\n",
       "      <td>4079</td>\n",
       "      <td>404</td>\n",
       "      <td>2018-07-22</td>\n",
       "      <td>131</td>\n",
       "    </tr>\n",
       "  </tbody>\n",
       "</table>\n",
       "</div>"
      ],
      "text/plain": [
       "   userId  churn_rate  Downgrade  time_from_creation  gender  paid_user  \\\n",
       "0  100010           0          0           32.719160       1          0   \n",
       "1  200002           0          0           49.748945       0          1   \n",
       "2     125           1          0           72.000000       0          0   \n",
       "3      51           1          0           11.103490       0          1   \n",
       "4     124           0          0           98.440207       1          1   \n",
       "\n",
       "   total_songs_played  interactions date_created  session_time  \n",
       "0                 275            33   2018-09-27            55  \n",
       "1                 387            39   2018-09-06            70  \n",
       "2                   8             0   2018-08-01            72  \n",
       "3                2111           201   2018-09-27            20  \n",
       "4                4079           404   2018-07-22           131  "
      ]
     },
     "execution_count": 62,
     "metadata": {},
     "output_type": "execute_result"
    }
   ],
   "source": [
    "model_df.head()"
   ]
  },
  {
   "cell_type": "code",
   "execution_count": 63,
   "metadata": {
    "scrolled": false
   },
   "outputs": [
    {
     "data": {
      "text/plain": [
       "<matplotlib.axes._subplots.AxesSubplot at 0x7fdce3ee3748>"
      ]
     },
     "execution_count": 63,
     "metadata": {},
     "output_type": "execute_result"
    },
    {
     "data": {
      "image/png": "[encoded data removed]",
      "text/plain": [
       "<matplotlib.figure.Figure at 0x7fdce8e0bba8>"
      ]
     },
     "metadata": {},
     "output_type": "display_data"
    }
   ],
   "source": [
    "# Get correlations\n",
    "sns.set(rc={'figure.figsize':(10,10)},font_scale=1)\n",
    "sns.heatmap(model_df.corr(), annot=True)"
   ]
  },
  {
   "cell_type": "markdown",
   "metadata": {},
   "source": [
    "### As played songs is high correlated with interactions and has the same correlation with churn i will use only played songs"
   ]
  },
  {
   "cell_type": "markdown",
   "metadata": {},
   "source": [
    "# Feature Engineering\n",
    "Once you've familiarized yourself with the data, build out the features you find promising to train your model on. To work with the full dataset, you can follow the following steps.\n",
    "- Write a script to extract the necessary features from the smaller subset of data\n",
    "- Ensure that your script is scalable, using the best practices discussed in Lesson 3\n",
    "- Try your script on the full data set, debugging your script if necessary\n",
    "\n",
    "If you are working in the classroom workspace, you can just extract features based on the small subset of data contained here. Be sure to transfer over this work to the larger dataset when you work on your Spark cluster."
   ]
  },
  {
   "cell_type": "code",
   "execution_count": 64,
   "metadata": {},
   "outputs": [],
   "source": [
    "def clean_dataset(event_data):\n",
    "    \n",
    "    '''\n",
    "    Take a event_data as a path to a spark dataframe in the json format. Selects the columns that will be used\n",
    "    in the model, cleans the data, create dummies for the categoricals, create the date columns, balance\n",
    "    the dataframe and outputs a model dataframe.\n",
    "\n",
    "    Parameters:\n",
    "    event_data : the path to the dataframe in the spark session in the format json (ex: 'mini_sparkify_event_data.json')\n",
    "\n",
    "    Returns cleaned and balanced spark dataframe.\n",
    "    '''\n",
    "\n",
    "    \n",
    "    df = spark.read.json(event_data)\n",
    "    #selecting only the columns that will be used\n",
    "    df=df.select(['gender', 'auth','page', 'ts', 'level', 'userId', 'page','registration'])\n",
    "\n",
    "    #removing the guest and logged Out\n",
    "    df_filtered = df.filter((df.auth != 'Guest') & (df.auth != 'Logged Out'))\n",
    "\n",
    "    #Creating the churn column as a dummy\n",
    "    cancelled = udf(lambda x : 0 if  x == 'Logged In' else 1, IntegerType())\n",
    "    df_clean = df_filtered.withColumn('churn',cancelled('auth'))\n",
    "\n",
    "    # Creating a new column with the page column as 1 if the user is downgraded\n",
    "    downgrade = udf(lambda x : 1 if  x == 'Submit Downgrade' else 0, IntegerType())\n",
    "    df_clean = df_clean.withColumn('Downgrade',downgrade('page'))\n",
    "\n",
    "\n",
    "    #creating the date column\n",
    "    df_clean = df_clean.withColumn(\"date\", F.to_date(F.from_unixtime(col('ts')/lit(1000))))\n",
    "    df_clean = df_clean.withColumn(\"date_created\", F.to_date(F.from_unixtime(col('registration')/lit(1000))))\n",
    "    df_clean = df_clean.withColumn(\"time_from_creation\", F.datediff('date','date_created'))\n",
    "\n",
    "    # Convert gender to binary. 1 = female\n",
    "    female = udf(lambda x: 1 if x == 'F' else 0, IntegerType())\n",
    "    df_clean = df_clean.withColumn('gender_binary', female('gender'))\n",
    "\n",
    "    # Convert level to binary. 1 = paid\n",
    "    level = udf(lambda x: 1 if x == 'paid' else 0, IntegerType())\n",
    "    df_clean = df_clean.withColumn('paid_user', level('level'))\n",
    "\n",
    "    # Convert songs played to binary.\n",
    "    songs = udf(lambda x: 1 if x == 'NextSong' else 0, IntegerType())\n",
    "    df_clean = df_clean.withColumn('played_song', songs('page'))\n",
    "\n",
    "    # Get user interactions except for playing songs\n",
    "    inter = ['Thumbs Up', 'Thumbs Down', 'Add to Playlist', 'Add Friend']\n",
    "    get_interactions = udf(lambda x: 1 if x in inter else 0, IntegerType())\n",
    "    df_clean = df_clean.withColumn('interactions', get_interactions('page'))\n",
    "\n",
    "\n",
    "    # Get the model\n",
    "    model_df = df_clean.groupby('userId').agg(\\\n",
    "                                                              max('churn').alias('churn_rate'),\\\n",
    "                                                              max('Downgrade').alias('Downgrade'),\\\n",
    "                                                              avg('time_from_creation').alias('time_from_creation'),\\\n",
    "                                                              max('gender_binary').alias('gender'),\\\n",
    "                                                              max('paid_user').alias('paid_user'),\\\n",
    "                                                              sum('played_song').alias('total_songs_played'),\\\n",
    "                                                              sum('interactions').alias('interactions'),\\\n",
    "                                             max('date').alias('date'),\\\n",
    "                                             max('date_created').alias('date_created'))\n",
    "\n",
    "\n",
    "\n",
    "    #Create a column with the session time and dropping the date column\n",
    "    model_df = model_df.withColumn(\"session_time\", F.datediff('date','date_created'))\n",
    "    model_df = model_df.drop('date')\n",
    "    \n",
    "    #Ensuring that users with low interactions are considered as churned\n",
    "    model_df = model_df.withColumn(\"churn_rate\", \\\n",
    "              F.when( (model_df[\"churn_rate\"]==1) | (model_df[\"interactions\"] < 2), 1).otherwise(0))\n",
    "    \n",
    "    #Balancing the dataframe by the churn rate\n",
    "    numerator = model_df.filter(model_df.churn_rate == 1).count()\n",
    "    churned =  model_df.filter(model_df.churn_rate == 1)\n",
    "    not_churned= model_df.filter(model_df.churn_rate == 0)\n",
    "    denominator = not_churned.count()\n",
    "    sample_df = not_churned.sample(withReplacement=False, fraction=numerator/denominator, seed=42)\n",
    "    model_df = churned.union(sample_df)\n",
    "    \n",
    "\n",
    "    return model_df\n",
    "    "
   ]
  },
  {
   "cell_type": "code",
   "execution_count": 65,
   "metadata": {},
   "outputs": [],
   "source": [
    "#test\n",
    "model = clean_dataset(event_data)"
   ]
  },
  {
   "cell_type": "code",
   "execution_count": 66,
   "metadata": {},
   "outputs": [
    {
     "data": {
      "text/plain": [
       "DataFrame[userId: string, churn_rate: int, Downgrade: int, time_from_creation: double, gender: int, paid_user: int, total_songs_played: bigint, interactions: bigint, date_created: date, session_time: int]"
      ]
     },
     "execution_count": 66,
     "metadata": {},
     "output_type": "execute_result"
    }
   ],
   "source": [
    "model.filter(model.churn_rate == 1)"
   ]
  },
  {
   "cell_type": "code",
   "execution_count": 67,
   "metadata": {},
   "outputs": [
    {
     "data": {
      "text/plain": [
       "[Row(userId='125', churn_rate=1, Downgrade=0, time_from_creation=72.0, gender=0, paid_user=0, total_songs_played=8, interactions=0, date_created=datetime.date(2018, 8, 1), session_time=72)]"
      ]
     },
     "execution_count": 67,
     "metadata": {},
     "output_type": "execute_result"
    }
   ],
   "source": [
    "model.take(1)"
   ]
  },
  {
   "cell_type": "code",
   "execution_count": 68,
   "metadata": {},
   "outputs": [
    {
     "data": {
      "text/plain": [
       "111"
      ]
     },
     "execution_count": 68,
     "metadata": {},
     "output_type": "execute_result"
    }
   ],
   "source": [
    "model.count()"
   ]
  },
  {
   "cell_type": "code",
   "execution_count": 69,
   "metadata": {},
   "outputs": [
    {
     "name": "stdout",
     "output_type": "stream",
     "text": [
      "root\n",
      " |-- userId: string (nullable = true)\n",
      " |-- churn_rate: integer (nullable = false)\n",
      " |-- Downgrade: integer (nullable = true)\n",
      " |-- time_from_creation: double (nullable = true)\n",
      " |-- gender: integer (nullable = true)\n",
      " |-- paid_user: integer (nullable = true)\n",
      " |-- total_songs_played: long (nullable = true)\n",
      " |-- interactions: long (nullable = true)\n",
      " |-- date_created: date (nullable = true)\n",
      " |-- session_time: integer (nullable = true)\n",
      "\n"
     ]
    }
   ],
   "source": [
    "model.printSchema()"
   ]
  },
  {
   "cell_type": "code",
   "execution_count": 70,
   "metadata": {},
   "outputs": [],
   "source": [
    "def model_preparation(model):\n",
    "        \n",
    "    '''\n",
    "    Take a model as a spark dataframe with this columns = ['Downgrade','time_from_creation','gender','paid_user',\n",
    "    'total_songs_played','interactions','session_time']. Uses the VectorAssembler on this columns and then uses\n",
    "    the StandardScaler on this numeric features.\n",
    "\n",
    "    Parameters:\n",
    "    model : a spark dataframe\n",
    "\n",
    "    Returns - Data prepared for machine learning with features and label columns.\n",
    "    '''\n",
    "    \n",
    "    # Assemble num features\n",
    "    assembler = VectorAssembler(inputCols=['Downgrade','time_from_creation','gender',\\\n",
    "                                       'paid_user','total_songs_played','interactions',\\\n",
    "                                      'session_time'],\\\n",
    "                            outputCol='numerical_features',handleInvalid = 'skip')\n",
    "    \n",
    "    #temp DF\n",
    "    temp = assembler.transform(model)\n",
    "    \n",
    "    #Create Scaler\n",
    "    scaler = StandardScaler(withMean=True, withStd=True, inputCol='numerical_features', outputCol='features')\n",
    "    scaler_fit = scaler.fit(temp)\n",
    "    \n",
    "    data = scaler_fit.transform(temp)\n",
    "    \n",
    "    # Use 'churn' as model prediction label\n",
    "    data = data.withColumnRenamed('churn_rate','label')\n",
    "    \n",
    "    return data\n",
    "\n",
    "    \n",
    "    "
   ]
  },
  {
   "cell_type": "code",
   "execution_count": 71,
   "metadata": {},
   "outputs": [],
   "source": [
    "data = model_preparation(model)"
   ]
  },
  {
   "cell_type": "markdown",
   "metadata": {},
   "source": [
    "# Modeling\n",
    "Split the full dataset into train, test, and validation sets. Test out several of the machine learning methods you learned. Evaluate the accuracy of the various models, tuning parameters as necessary. Determine your winning model based on test accuracy and report results on the validation set. Since the churned users are a fairly small subset, I suggest using F1 score as the metric to optimize."
   ]
  },
  {
   "cell_type": "code",
   "execution_count": 78,
   "metadata": {},
   "outputs": [],
   "source": [
    "def baseline_ml(data):\n",
    "            \n",
    "    '''\n",
    "    Take the data as a processed spark dataframe. Splits the data into train and test. Use 4 machine learnirg\n",
    "    algorithms with the default settings: LogisticRegression, DecisionTreeClassifier(seed=42),\n",
    "    RandomForestClassifier(seed=42),LinearSVC. Outputs prints for the baseline parameters : accuracy. f1-score,\n",
    "    precision and recall.  \n",
    "    \n",
    "\n",
    "    Parameters:\n",
    "    model : a processed spark dataframe\n",
    "\n",
    "    Returns - Prints for the parameters\n",
    "    '''\n",
    "    \n",
    "    \n",
    "    # Split train test set\n",
    "    train, test = data.randomSplit([0.8, 0.2], seed=42)\n",
    "    \n",
    "    # Initialize four models\n",
    "    clf_LR = LogisticRegression()\n",
    "    clf_DT = DecisionTreeClassifier(seed=42)\n",
    "    clf_RF = RandomForestClassifier(seed=42)\n",
    "    clf_SVM = LinearSVC()\n",
    "    \n",
    "    #Instanciate the evaluator\n",
    "    evaluator= MulticlassClassificationEvaluator(predictionCol=\"prediction\")\n",
    "    \n",
    "    #Empty dic for the results\n",
    "    results = {}\n",
    "\n",
    "    for clf in [clf_LR, clf_DT, clf_RF, clf_SVM]:\n",
    "        model_results = {}\n",
    "        # get the classifier name\n",
    "        clf_name = clf.__class__.__name__\n",
    "\n",
    "        #Train\n",
    "        model = clf.fit(train)\n",
    "\n",
    "        #Predict\n",
    "        pred = model.transform(test)\n",
    "\n",
    "        #Get each model result, print and append to the results\n",
    "        model_results['f1_test'] = evaluator.evaluate(pred.select('label','prediction'),{evaluator.metricName: 'f1'})\n",
    "        model_results['precision'] = evaluator.evaluate(pred.select('label','prediction'),{evaluator.metricName: 'weightedPrecision'})\n",
    "        model_results['recall'] = evaluator.evaluate(pred.select('label','prediction'),{evaluator.metricName: 'weightedRecall'})\n",
    "        model_results['accuracy'] = evaluator.evaluate(pred.select('label','prediction'),{evaluator.metricName: 'accuracy'})\n",
    "\n",
    "        print(clf_name)\n",
    "        print('Test F1-score: ',model_results['f1_test'])\n",
    "        results[clf_name] = model_results\n",
    "    \n",
    "    #prints the general output\n",
    "    results_df = pd.DataFrame(results)\n",
    "    return results_df\n",
    "    \n",
    "    "
   ]
  },
  {
   "cell_type": "code",
   "execution_count": 80,
   "metadata": {
    "scrolled": true
   },
   "outputs": [
    {
     "name": "stdout",
     "output_type": "stream",
     "text": [
      "LogisticRegression\n",
      "Test F1-score:  0.7979797979797979\n",
      "DecisionTreeClassifier\n",
      "Test F1-score:  0.7916666666666665\n",
      "RandomForestClassifier\n",
      "Test F1-score:  0.6875\n",
      "LinearSVC\n",
      "Test F1-score:  0.7493734335839599\n"
     ]
    },
    {
     "data": {
      "text/html": [
       "<div>\n",
       "<style scoped>\n",
       "    .dataframe tbody tr th:only-of-type {\n",
       "        vertical-align: middle;\n",
       "    }\n",
       "\n",
       "    .dataframe tbody tr th {\n",
       "        vertical-align: top;\n",
       "    }\n",
       "\n",
       "    .dataframe thead th {\n",
       "        text-align: right;\n",
       "    }\n",
       "</style>\n",
       "<table border=\"1\" class=\"dataframe\">\n",
       "  <thead>\n",
       "    <tr style=\"text-align: right;\">\n",
       "      <th></th>\n",
       "      <th>LogisticRegression</th>\n",
       "      <th>DecisionTreeClassifier</th>\n",
       "      <th>RandomForestClassifier</th>\n",
       "      <th>LinearSVC</th>\n",
       "    </tr>\n",
       "  </thead>\n",
       "  <tbody>\n",
       "    <tr>\n",
       "      <th>accuracy</th>\n",
       "      <td>0.80000</td>\n",
       "      <td>0.800000</td>\n",
       "      <td>0.700000</td>\n",
       "      <td>0.750000</td>\n",
       "    </tr>\n",
       "    <tr>\n",
       "      <th>f1_test</th>\n",
       "      <td>0.79798</td>\n",
       "      <td>0.791667</td>\n",
       "      <td>0.687500</td>\n",
       "      <td>0.749373</td>\n",
       "    </tr>\n",
       "    <tr>\n",
       "      <th>precision</th>\n",
       "      <td>0.81250</td>\n",
       "      <td>0.857143</td>\n",
       "      <td>0.738095</td>\n",
       "      <td>0.752525</td>\n",
       "    </tr>\n",
       "    <tr>\n",
       "      <th>recall</th>\n",
       "      <td>0.80000</td>\n",
       "      <td>0.800000</td>\n",
       "      <td>0.700000</td>\n",
       "      <td>0.750000</td>\n",
       "    </tr>\n",
       "  </tbody>\n",
       "</table>\n",
       "</div>"
      ],
      "text/plain": [
       "           LogisticRegression  DecisionTreeClassifier  RandomForestClassifier  \\\n",
       "accuracy              0.80000                0.800000                0.700000   \n",
       "f1_test               0.79798                0.791667                0.687500   \n",
       "precision             0.81250                0.857143                0.738095   \n",
       "recall                0.80000                0.800000                0.700000   \n",
       "\n",
       "           LinearSVC  \n",
       "accuracy    0.750000  \n",
       "f1_test     0.749373  \n",
       "precision   0.752525  \n",
       "recall      0.750000  "
      ]
     },
     "execution_count": 80,
     "metadata": {},
     "output_type": "execute_result"
    }
   ],
   "source": [
    "baseline_ml(data)"
   ]
  },
  {
   "cell_type": "markdown",
   "metadata": {
    "scrolled": true
   },
   "source": [
    "### As the best model in general is the Logistic Regression i will proceed to tune this model:"
   ]
  },
  {
   "cell_type": "code",
   "execution_count": 82,
   "metadata": {},
   "outputs": [],
   "source": [
    "# Get the params\n",
    "\n",
    "clf_LR = LogisticRegression()\n",
    "paramGrid = ParamGridBuilder().\\\n",
    "            addGrid(clf_LR.maxIter, [10, 100, 1000]).\\\n",
    "            addGrid(clf_LR.regParam, [0.01,0.1,10.0,100.0]).\\\n",
    "            build()\n",
    "\n",
    "#Use the crossvalidation\n",
    "crossval = CrossValidator(estimator=clf_LR,\n",
    "                      estimatorParamMaps=paramGrid,\n",
    "                      evaluator=MulticlassClassificationEvaluator(metricName=\"f1\"),\n",
    "                      numFolds=3)"
   ]
  },
  {
   "cell_type": "code",
   "execution_count": 83,
   "metadata": {},
   "outputs": [],
   "source": [
    "#Train model\n",
    "train, test = data.randomSplit([0.8, 0.2], seed=42)\n",
    "from workspace_utils import active_session\n",
    "with active_session():\n",
    "    cvModel_stack = crossval.fit(train)"
   ]
  },
  {
   "cell_type": "code",
   "execution_count": 84,
   "metadata": {},
   "outputs": [],
   "source": [
    "#Predict\n",
    "with active_session():\n",
    "    pred = cvModel_stack.transform(test)"
   ]
  },
  {
   "cell_type": "code",
   "execution_count": 85,
   "metadata": {},
   "outputs": [
    {
     "name": "stdout",
     "output_type": "stream",
     "text": [
      "F-1 Score:0.8496240601503762\n"
     ]
    }
   ],
   "source": [
    "# Results\n",
    "evaluator= MulticlassClassificationEvaluator(predictionCol=\"prediction\")\n",
    "print('F-1 Score:{}'.format(evaluator.evaluate(pred.select('label','prediction'), {evaluator.metricName: \"f1\"})))"
   ]
  },
  {
   "cell_type": "code",
   "execution_count": 86,
   "metadata": {},
   "outputs": [
    {
     "name": "stdout",
     "output_type": "stream",
     "text": [
      "Best Param (regParam):  0.01\n",
      "Best Param (MaxIter):  10\n",
      "Best Param (elasticNetParam):  0.0\n"
     ]
    }
   ],
   "source": [
    "# Get the best params\n",
    "bestModel = cvModel_stack.bestModel\n",
    "print ('Best Param (regParam): ', bestModel._java_obj.getRegParam())\n",
    "\n",
    "print ('Best Param (MaxIter): ', bestModel._java_obj.getMaxIter())\n",
    "\n",
    "print ('Best Param (elasticNetParam): ', bestModel._java_obj.getElasticNetParam())\n",
    "\n"
   ]
  },
  {
   "cell_type": "code",
   "execution_count": 88,
   "metadata": {},
   "outputs": [],
   "source": [
    "#Save Model\n",
    "#cvModel_stack.save()"
   ]
  },
  {
   "cell_type": "code",
   "execution_count": null,
   "metadata": {},
   "outputs": [],
   "source": []
  }
 ],
 "metadata": {
  "kernelspec": {
   "display_name": "Python 3",
   "language": "python",
   "name": "python3"
  },
  "language_info": {
   "codemirror_mode": {
    "name": "ipython",
    "version": 3
   },
   "file_extension": ".py",
   "mimetype": "text/x-python",
   "name": "python",
   "nbconvert_exporter": "python",
   "pygments_lexer": "ipython3",
   "version": "3.6.3"
  }
 },
 "nbformat": 4,
 "nbformat_minor": 2
}
